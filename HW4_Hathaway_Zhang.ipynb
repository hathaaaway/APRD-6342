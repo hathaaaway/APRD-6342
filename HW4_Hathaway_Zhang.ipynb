{
 "cells": [
  {
   "cell_type": "markdown",
   "metadata": {},
   "source": [
    "# Python Exercise 4: Basic Ad Analyses\n",
    "Hathaway Zhang <br>\n",
    "104369396  <br>\n",
    "Sep.18, 2018  <br>"
   ]
  },
  {
   "cell_type": "code",
   "execution_count": 2,
   "metadata": {},
   "outputs": [],
   "source": [
    "# Import necessary package for the assignment \n",
    "import pandas as pd\n",
    "from pandas import DataFrame\n",
    "import numpy as np\n",
    "import statsmodels.api as sm"
   ]
  },
  {
   "cell_type": "code",
   "execution_count": 3,
   "metadata": {},
   "outputs": [
    {
     "name": "stdout",
     "output_type": "stream",
     "text": [
      "<class 'pandas.core.frame.DataFrame'>\n",
      "RangeIndex: 3705 entries, 0 to 3704\n",
      "Data columns (total 18 columns):\n",
      "Start Date                        3705 non-null object\n",
      "End Date                          3705 non-null object\n",
      "Campaign Name                     3705 non-null object\n",
      "Reach                             3705 non-null int64\n",
      "Frequency                         3705 non-null float64\n",
      "Impressions                       3705 non-null int64\n",
      "Clicks                            3705 non-null int64\n",
      "Unique Clicks                     3705 non-null int64\n",
      "Amount Spent (USD)                3705 non-null float64\n",
      "Page Likes                        3705 non-null int64\n",
      "Page Engagement                   3705 non-null int64\n",
      "Post Engagement                   3705 non-null int64\n",
      "Post Likes                        3705 non-null int64\n",
      "Post Comments                     3705 non-null int64\n",
      "Post Shares                       3705 non-null int64\n",
      "Photo Views                       3705 non-null int64\n",
      "Website Clicks                    3705 non-null int64\n",
      "Cost per Page Engagement (USD)    3705 non-null float64\n",
      "dtypes: float64(3), int64(12), object(3)\n",
      "memory usage: 521.1+ KB\n"
     ]
    }
   ],
   "source": [
    "# load data and preview\n",
    "dfRaw = pd.read_csv(\"Travel Pony Facebook.csv\")\n",
    "dfRaw.info()"
   ]
  },
  {
   "cell_type": "markdown",
   "metadata": {},
   "source": [
    "### 1. Create the analytics 'cost per impression'\n",
    "What day of the week works best? (What day is it cheapest to generate impressions) \n",
    "What day works worst? (What day is most expensive)"
   ]
  },
  {
   "cell_type": "code",
   "execution_count": 4,
   "metadata": {},
   "outputs": [
    {
     "name": "stdout",
     "output_type": "stream",
     "text": [
      "Saturday works best.\n",
      "Friday works worst.\n"
     ]
    }
   ],
   "source": [
    "# create new column\n",
    "dfRaw['Cost Per Impression'] = dfRaw['Amount Spent (USD)'] / dfRaw['Impressions']\n",
    "# format start date into day name\n",
    "dfRaw['Start Date'] = pd.to_datetime(dfRaw['Start Date'],errors='coerce',format='%m/%d/%y')\n",
    "dfRaw['Day'] = dfRaw['Start Date'].dt.dayofweek\n",
    "days = {0:'Monday',1:'Tuesday',2:'Wednesday',3:'Thursday',4:'Friday',5:'Saturday',6:'Sunday'}\n",
    "dfRaw.insert(0,'Day Of Week',dfRaw['Day'].apply(lambda x: days[x]))\n",
    "dfRaw.head()\n",
    "\n",
    "# calculate cost per impression and find the best and worst day\n",
    "dfR1 = pd.DataFrame(dfRaw.groupby(['Day Of Week']).mean()['Cost Per Impression'].sort_values(ascending=False)).reset_index()\n",
    "print(dfR1['Day Of Week'][6],\"works best.\")\n",
    "dfR2 = pd.DataFrame(dfRaw.groupby(['Day Of Week']).mean()['Cost Per Impression'].sort_values(ascending=True)).reset_index()\n",
    "print(dfR2['Day Of Week'][6],\"works worst.\")"
   ]
  },
  {
   "cell_type": "markdown",
   "metadata": {},
   "source": [
    "### 2. Compute Correlation"
   ]
  },
  {
   "cell_type": "code",
   "execution_count": 5,
   "metadata": {},
   "outputs": [
    {
     "name": "stdout",
     "output_type": "stream",
     "text": [
      "                    Amount Spent (USD)     Reach\n",
      "Amount Spent (USD)            1.000000  0.703124\n",
      "Reach                         0.703124  1.000000\n",
      "                    Amount Spent (USD)  Frequency\n",
      "Amount Spent (USD)            1.000000   0.130201\n",
      "Frequency                     0.130201   1.000000\n",
      "                    Amount Spent (USD)  Unique Clicks\n",
      "Amount Spent (USD)            1.000000       0.882993\n",
      "Unique Clicks                 0.882993       1.000000\n",
      "                    Amount Spent (USD)  Page Likes\n",
      "Amount Spent (USD)            1.000000    0.757612\n",
      "Page Likes                    0.757612    1.000000\n",
      "Correlation between Amount Spent and Unique Clicks is the stronges, which means unique clicks is highly associated with the amount spent and unique click is more correlated with unique clicks comparing with reach, frequency, and page likes.\n"
     ]
    }
   ],
   "source": [
    "# compute the correlations\n",
    "print(dfRaw[['Amount Spent (USD)','Reach']].corr())\n",
    "print(dfRaw[['Amount Spent (USD)','Frequency']].corr())\n",
    "print(dfRaw[['Amount Spent (USD)','Unique Clicks']].corr())\n",
    "print(dfRaw[['Amount Spent (USD)','Page Likes']].corr())\n",
    "print(\"Correlation between Amount Spent and Unique Clicks is the stronges, which means unique clicks is highly associated with the amount spent and unique click is more correlated with unique clicks comparing with reach, frequency, and page likes.\")"
   ]
  },
  {
   "cell_type": "markdown",
   "metadata": {},
   "source": [
    "### 3. Simple Multiple Regression Analysis"
   ]
  },
  {
   "cell_type": "code",
   "execution_count": 8,
   "metadata": {},
   "outputs": [
    {
     "data": {
      "text/html": [
       "<table class=\"simpletable\">\n",
       "<caption>OLS Regression Results</caption>\n",
       "<tr>\n",
       "  <th>Dep. Variable:</th>      <td>Unique Clicks</td>  <th>  R-squared:         </th> <td>   0.557</td> \n",
       "</tr>\n",
       "<tr>\n",
       "  <th>Model:</th>                   <td>OLS</td>       <th>  Adj. R-squared:    </th> <td>   0.556</td> \n",
       "</tr>\n",
       "<tr>\n",
       "  <th>Method:</th>             <td>Least Squares</td>  <th>  F-statistic:       </th> <td>   2325.</td> \n",
       "</tr>\n",
       "<tr>\n",
       "  <th>Date:</th>             <td>Tue, 16 Oct 2018</td> <th>  Prob (F-statistic):</th>  <td>  0.00</td>  \n",
       "</tr>\n",
       "<tr>\n",
       "  <th>Time:</th>                 <td>16:03:08</td>     <th>  Log-Likelihood:    </th> <td> -15973.</td> \n",
       "</tr>\n",
       "<tr>\n",
       "  <th>No. Observations:</th>      <td>  3705</td>      <th>  AIC:               </th> <td>3.195e+04</td>\n",
       "</tr>\n",
       "<tr>\n",
       "  <th>Df Residuals:</th>          <td>  3703</td>      <th>  BIC:               </th> <td>3.196e+04</td>\n",
       "</tr>\n",
       "<tr>\n",
       "  <th>Df Model:</th>              <td>     2</td>      <th>                     </th>     <td> </td>    \n",
       "</tr>\n",
       "<tr>\n",
       "  <th>Covariance Type:</th>      <td>nonrobust</td>    <th>                     </th>     <td> </td>    \n",
       "</tr>\n",
       "</table>\n",
       "<table class=\"simpletable\">\n",
       "<tr>\n",
       "      <td></td>         <th>coef</th>     <th>std err</th>      <th>t</th>      <th>P>|t|</th>  <th>[0.025</th>    <th>0.975]</th>  \n",
       "</tr>\n",
       "<tr>\n",
       "  <th>Reach</th>     <td>    0.0019</td> <td> 3.12e-05</td> <td>   62.490</td> <td> 0.000</td> <td>    0.002</td> <td>    0.002</td>\n",
       "</tr>\n",
       "<tr>\n",
       "  <th>Frequency</th> <td>    3.6139</td> <td>    0.298</td> <td>   12.109</td> <td> 0.000</td> <td>    3.029</td> <td>    4.199</td>\n",
       "</tr>\n",
       "</table>\n",
       "<table class=\"simpletable\">\n",
       "<tr>\n",
       "  <th>Omnibus:</th>       <td>5107.616</td> <th>  Durbin-Watson:     </th>  <td>   0.803</td>  \n",
       "</tr>\n",
       "<tr>\n",
       "  <th>Prob(Omnibus):</th>  <td> 0.000</td>  <th>  Jarque-Bera (JB):  </th> <td>5128392.747</td>\n",
       "</tr>\n",
       "<tr>\n",
       "  <th>Skew:</th>           <td> 7.331</td>  <th>  Prob(JB):          </th>  <td>    0.00</td>  \n",
       "</tr>\n",
       "<tr>\n",
       "  <th>Kurtosis:</th>       <td>184.674</td> <th>  Cond. No.          </th>  <td>9.84e+03</td>  \n",
       "</tr>\n",
       "</table><br/><br/>Warnings:<br/>[1] Standard Errors assume that the covariance matrix of the errors is correctly specified.<br/>[2] The condition number is large, 9.84e+03. This might indicate that there are<br/>strong multicollinearity or other numerical problems."
      ],
      "text/plain": [
       "<class 'statsmodels.iolib.summary.Summary'>\n",
       "\"\"\"\n",
       "                            OLS Regression Results                            \n",
       "==============================================================================\n",
       "Dep. Variable:          Unique Clicks   R-squared:                       0.557\n",
       "Model:                            OLS   Adj. R-squared:                  0.556\n",
       "Method:                 Least Squares   F-statistic:                     2325.\n",
       "Date:                Tue, 16 Oct 2018   Prob (F-statistic):               0.00\n",
       "Time:                        16:03:08   Log-Likelihood:                -15973.\n",
       "No. Observations:                3705   AIC:                         3.195e+04\n",
       "Df Residuals:                    3703   BIC:                         3.196e+04\n",
       "Df Model:                           2                                         \n",
       "Covariance Type:            nonrobust                                         \n",
       "==============================================================================\n",
       "                 coef    std err          t      P>|t|      [0.025      0.975]\n",
       "------------------------------------------------------------------------------\n",
       "Reach          0.0019   3.12e-05     62.490      0.000       0.002       0.002\n",
       "Frequency      3.6139      0.298     12.109      0.000       3.029       4.199\n",
       "==============================================================================\n",
       "Omnibus:                     5107.616   Durbin-Watson:                   0.803\n",
       "Prob(Omnibus):                  0.000   Jarque-Bera (JB):          5128392.747\n",
       "Skew:                           7.331   Prob(JB):                         0.00\n",
       "Kurtosis:                     184.674   Cond. No.                     9.84e+03\n",
       "==============================================================================\n",
       "\n",
       "Warnings:\n",
       "[1] Standard Errors assume that the covariance matrix of the errors is correctly specified.\n",
       "[2] The condition number is large, 9.84e+03. This might indicate that there are\n",
       "strong multicollinearity or other numerical problems.\n",
       "\"\"\""
      ]
     },
     "execution_count": 8,
     "metadata": {},
     "output_type": "execute_result"
    }
   ],
   "source": [
    "X = dfRaw[[\"Reach\",\"Frequency\"]]\n",
    "y = dfRaw[\"Unique Clicks\"]\n",
    "# Note the difference in argument order\n",
    "model = sm.OLS(y, X).fit()\n",
    "predictions = model.predict(X) # make the predictions by the model\n",
    "\n",
    "# Print out the statistics\n",
    "model.summary()"
   ]
  },
  {
   "cell_type": "code",
   "execution_count": null,
   "metadata": {},
   "outputs": [],
   "source": []
  }
 ],
 "metadata": {
  "kernelspec": {
   "display_name": "Python [conda env:anaconda3]",
   "language": "python",
   "name": "conda-env-anaconda3-py"
  },
  "language_info": {
   "codemirror_mode": {
    "name": "ipython",
    "version": 3
   },
   "file_extension": ".py",
   "mimetype": "text/x-python",
   "name": "python",
   "nbconvert_exporter": "python",
   "pygments_lexer": "ipython3",
   "version": "3.7.0"
  }
 },
 "nbformat": 4,
 "nbformat_minor": 2
}
