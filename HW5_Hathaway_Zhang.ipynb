{
 "cells": [
  {
   "cell_type": "markdown",
   "metadata": {},
   "source": [
    "# Python Exercise 5: Travel Pony Ad Cost Regression Analysis\n",
    "Hathaway Zhang <br>\n",
    "104369396  <br>\n",
    "Sep.26, 2018  <br>"
   ]
  },
  {
   "cell_type": "code",
   "execution_count": 4,
   "metadata": {},
   "outputs": [],
   "source": [
    "#  import necessary packages\n",
    "import pandas as pd\n",
    "from pandas import DataFrame\n",
    "import numpy as np\n",
    "import seaborn as sns\n",
    "import statsmodels.api as sm\n",
    "import matplotlib.pyplot as plt"
   ]
  },
  {
   "cell_type": "code",
   "execution_count": 2,
   "metadata": {},
   "outputs": [],
   "source": [
    "#  remove rows that have 0 amount spent\n",
    "dfRaw = pd.read_csv(\"Travel Pony Facebook.csv\")\n",
    "dfCleaned = dfRaw[dfRaw['Amount Spent (USD)'] != 0]"
   ]
  },
  {
   "cell_type": "markdown",
   "metadata": {},
   "source": [
    "## 1. Graph a histogram of Amount Spent using Seaborn"
   ]
  },
  {
   "cell_type": "code",
   "execution_count": 44,
   "metadata": {},
   "outputs": [
    {
     "name": "stderr",
     "output_type": "stream",
     "text": [
      "/anaconda3/lib/python3.7/site-packages/scipy/stats/stats.py:1713: FutureWarning: Using a non-tuple sequence for multidimensional indexing is deprecated; use `arr[tuple(seq)]` instead of `arr[seq]`. In the future this will be interpreted as an array index, `arr[np.array(seq)]`, which will result either in an error or a different result.\n",
      "  return np.add.reduce(sorted[indexer] * weights, axis=axis) / sumval\n"
     ]
    },
    {
     "data": {
      "image/png": "[encoded data removed]",
      "text/plain": [
       "<Figure size 864x576 with 1 Axes>"
      ]
     },
     "metadata": {},
     "output_type": "display_data"
    }
   ],
   "source": [
    "#  graph a histogram of Amount Spent using Seaborn\n",
    "fig, ax = plt.subplots()\n",
    "fig.set_size_inches(12, 8)\n",
    "sns.set_style('darkgrid')\n",
    "ax = sns.distplot(dfCleaned['Amount Spent (USD)'])"
   ]
  },
  {
   "cell_type": "markdown",
   "metadata": {},
   "source": [
    "## 2. Build a multiple regression \n",
    "The outcome variable is Amount Spent and the predictor variables are: Campaign Name, Reach, Frequency, Impressions, Clicks, Unique Clicks, Page Likes, Page Engagement, Post Engagement, Post Likes, Post Comments, Post Shares, Photo Views, Website Clicks."
   ]
  },
  {
   "cell_type": "code",
   "execution_count": 10,
   "metadata": {},
   "outputs": [
    {
     "data": {
      "text/plain": [
       "array(['Cyber Weekend', 'TravelPony', 'Post', 'Nanigans',\n",
       "       'Simple_Multi_Fill_Campaign', 'Ad'], dtype=object)"
      ]
     },
     "execution_count": 10,
     "metadata": {},
     "output_type": "execute_result"
    }
   ],
   "source": [
    "#  hide the warning message\n",
    "pd.options.mode.chained_assignment = None  # default='warn'\n",
    "#  filter the items under campaign name and grouped them into 6 parts\n",
    "dfCleaned.loc[dfCleaned['Campaign Name'].str.contains('Nanigans', case=False), 'Campaign Name'] = 'Nanigans'\n",
    "dfCleaned.loc[dfCleaned['Campaign Name'].str.contains('TravelPony', case=False), 'Campaign Name'] = 'TravelPony'\n",
    "dfCleaned.loc[dfCleaned['Campaign Name'].str.contains('Simple'), 'Campaign Name'] = 'Simple_Multi_Fill_Campaign'\n",
    "dfCleaned.loc[dfCleaned['Campaign Name'].str.contains('Ad'), 'Campaign Name'] = 'Ad'\n",
    "dfCleaned.loc[dfCleaned['Campaign Name'].str.contains('Post'), 'Campaign Name'] = 'Post'\n",
    "#  show all the possible items in campaign name after filtering\n",
    "dfCleaned['Campaign Name'].unique()"
   ]
  },
  {
   "cell_type": "code",
   "execution_count": 11,
   "metadata": {},
   "outputs": [],
   "source": [
    "#  forming final dataframe for regression\n",
    "dfCN = pd.get_dummies(dfCleaned['Campaign Name'])\n",
    "dfD = pd.concat([dfCleaned, dfCN], axis=1)\n",
    "#  selecting independent variables and dependent variable for regression\n",
    "dependV = dfD['Amount Spent (USD)']\n",
    "independV = dfD[['Ad','Cyber Weekend','Nanigans','Post','Simple_Multi_Fill_Campaign','TravelPony','Reach','Frequency',\n",
    "                 'Impressions','Clicks','Unique Clicks','Page Likes','Page Engagement','Post Engagement','Post Likes',\n",
    "                 'Post Comments','Post Shares','Photo Views','Website Clicks']]"
   ]
  },
  {
   "cell_type": "code",
   "execution_count": 12,
   "metadata": {},
   "outputs": [
    {
     "data": {
      "text/html": [
       "<table class=\"simpletable\">\n",
       "<caption>OLS Regression Results</caption>\n",
       "<tr>\n",
       "  <th>Dep. Variable:</th>    <td>Amount Spent (USD)</td> <th>  R-squared:         </th> <td>   0.928</td> \n",
       "</tr>\n",
       "<tr>\n",
       "  <th>Model:</th>                    <td>OLS</td>        <th>  Adj. R-squared:    </th> <td>   0.928</td> \n",
       "</tr>\n",
       "<tr>\n",
       "  <th>Method:</th>              <td>Least Squares</td>   <th>  F-statistic:       </th> <td>   1360.</td> \n",
       "</tr>\n",
       "<tr>\n",
       "  <th>Date:</th>              <td>Wed, 26 Sep 2018</td>  <th>  Prob (F-statistic):</th>  <td>  0.00</td>  \n",
       "</tr>\n",
       "<tr>\n",
       "  <th>Time:</th>                  <td>22:45:19</td>      <th>  Log-Likelihood:    </th> <td> -6573.0</td> \n",
       "</tr>\n",
       "<tr>\n",
       "  <th>No. Observations:</th>       <td>  1802</td>       <th>  AIC:               </th> <td>1.318e+04</td>\n",
       "</tr>\n",
       "<tr>\n",
       "  <th>Df Residuals:</th>           <td>  1784</td>       <th>  BIC:               </th> <td>1.328e+04</td>\n",
       "</tr>\n",
       "<tr>\n",
       "  <th>Df Model:</th>               <td>    17</td>       <th>                     </th>     <td> </td>    \n",
       "</tr>\n",
       "<tr>\n",
       "  <th>Covariance Type:</th>       <td>nonrobust</td>     <th>                     </th>     <td> </td>    \n",
       "</tr>\n",
       "</table>\n",
       "<table class=\"simpletable\">\n",
       "<tr>\n",
       "               <td></td>                 <th>coef</th>     <th>std err</th>      <th>t</th>      <th>P>|t|</th>  <th>[0.025</th>    <th>0.975]</th>  \n",
       "</tr>\n",
       "<tr>\n",
       "  <th>Ad</th>                         <td>    0.1666</td> <td>    3.803</td> <td>    0.044</td> <td> 0.965</td> <td>   -7.292</td> <td>    7.625</td>\n",
       "</tr>\n",
       "<tr>\n",
       "  <th>Cyber Weekend</th>              <td> -193.3195</td> <td>   26.951</td> <td>   -7.173</td> <td> 0.000</td> <td> -246.179</td> <td> -140.460</td>\n",
       "</tr>\n",
       "<tr>\n",
       "  <th>Nanigans</th>                   <td>   -2.3150</td> <td>    2.014</td> <td>   -1.149</td> <td> 0.251</td> <td>   -6.266</td> <td>    1.636</td>\n",
       "</tr>\n",
       "<tr>\n",
       "  <th>Post</th>                       <td>  -12.0410</td> <td>    7.576</td> <td>   -1.589</td> <td> 0.112</td> <td>  -26.899</td> <td>    2.817</td>\n",
       "</tr>\n",
       "<tr>\n",
       "  <th>Simple_Multi_Fill_Campaign</th> <td>   -0.0647</td> <td>    1.882</td> <td>   -0.034</td> <td> 0.973</td> <td>   -3.756</td> <td>    3.627</td>\n",
       "</tr>\n",
       "<tr>\n",
       "  <th>TravelPony</th>                 <td>    7.2926</td> <td>    4.253</td> <td>    1.715</td> <td> 0.087</td> <td>   -1.048</td> <td>   15.633</td>\n",
       "</tr>\n",
       "<tr>\n",
       "  <th>Reach</th>                      <td>    0.0033</td> <td>    0.000</td> <td>   20.921</td> <td> 0.000</td> <td>    0.003</td> <td>    0.004</td>\n",
       "</tr>\n",
       "<tr>\n",
       "  <th>Frequency</th>                  <td>   -0.7778</td> <td>    1.836</td> <td>   -0.424</td> <td> 0.672</td> <td>   -4.378</td> <td>    2.823</td>\n",
       "</tr>\n",
       "<tr>\n",
       "  <th>Impressions</th>                <td>   -0.0009</td> <td> 8.41e-05</td> <td>  -10.146</td> <td> 0.000</td> <td>   -0.001</td> <td>   -0.001</td>\n",
       "</tr>\n",
       "<tr>\n",
       "  <th>Clicks</th>                     <td>   -0.3859</td> <td>    0.113</td> <td>   -3.413</td> <td> 0.001</td> <td>   -0.608</td> <td>   -0.164</td>\n",
       "</tr>\n",
       "<tr>\n",
       "  <th>Unique Clicks</th>              <td>    0.5155</td> <td>    0.127</td> <td>    4.057</td> <td> 0.000</td> <td>    0.266</td> <td>    0.765</td>\n",
       "</tr>\n",
       "<tr>\n",
       "  <th>Page Likes</th>                 <td>   24.4507</td> <td>    9.359</td> <td>    2.613</td> <td> 0.009</td> <td>    6.096</td> <td>   42.806</td>\n",
       "</tr>\n",
       "<tr>\n",
       "  <th>Page Engagement</th>            <td>  -21.1451</td> <td>    9.355</td> <td>   -2.260</td> <td> 0.024</td> <td>  -39.494</td> <td>   -2.796</td>\n",
       "</tr>\n",
       "<tr>\n",
       "  <th>Post Engagement</th>            <td>   18.0241</td> <td>    7.797</td> <td>    2.312</td> <td> 0.021</td> <td>    2.732</td> <td>   33.316</td>\n",
       "</tr>\n",
       "<tr>\n",
       "  <th>Post Likes</th>                 <td>    2.6100</td> <td>    1.564</td> <td>    1.669</td> <td> 0.095</td> <td>   -0.458</td> <td>    5.678</td>\n",
       "</tr>\n",
       "<tr>\n",
       "  <th>Post Comments</th>              <td>    3.5949</td> <td>    1.627</td> <td>    2.209</td> <td> 0.027</td> <td>    0.403</td> <td>    6.787</td>\n",
       "</tr>\n",
       "<tr>\n",
       "  <th>Post Shares</th>                <td>    4.9334</td> <td>    1.588</td> <td>    3.107</td> <td> 0.002</td> <td>    1.819</td> <td>    8.048</td>\n",
       "</tr>\n",
       "<tr>\n",
       "  <th>Photo Views</th>                <td>    3.3214</td> <td>    1.562</td> <td>    2.126</td> <td> 0.034</td> <td>    0.257</td> <td>    6.385</td>\n",
       "</tr>\n",
       "<tr>\n",
       "  <th>Website Clicks</th>             <td>    3.5644</td> <td>    1.563</td> <td>    2.281</td> <td> 0.023</td> <td>    0.500</td> <td>    6.629</td>\n",
       "</tr>\n",
       "</table>\n",
       "<table class=\"simpletable\">\n",
       "<tr>\n",
       "  <th>Omnibus:</th>       <td>796.064</td> <th>  Durbin-Watson:     </th> <td>   1.812</td> \n",
       "</tr>\n",
       "<tr>\n",
       "  <th>Prob(Omnibus):</th> <td> 0.000</td>  <th>  Jarque-Bera (JB):  </th> <td>21680.838</td>\n",
       "</tr>\n",
       "<tr>\n",
       "  <th>Skew:</th>          <td> 1.484</td>  <th>  Prob(JB):          </th> <td>    0.00</td> \n",
       "</tr>\n",
       "<tr>\n",
       "  <th>Kurtosis:</th>      <td>19.732</td>  <th>  Cond. No.          </th> <td>7.07e+18</td> \n",
       "</tr>\n",
       "</table><br/><br/>Warnings:<br/>[1] Standard Errors assume that the covariance matrix of the errors is correctly specified.<br/>[2] The smallest eigenvalue is 3.86e-26. This might indicate that there are<br/>strong multicollinearity problems or that the design matrix is singular."
      ],
      "text/plain": [
       "<class 'statsmodels.iolib.summary.Summary'>\n",
       "\"\"\"\n",
       "                            OLS Regression Results                            \n",
       "==============================================================================\n",
       "Dep. Variable:     Amount Spent (USD)   R-squared:                       0.928\n",
       "Model:                            OLS   Adj. R-squared:                  0.928\n",
       "Method:                 Least Squares   F-statistic:                     1360.\n",
       "Date:                Wed, 26 Sep 2018   Prob (F-statistic):               0.00\n",
       "Time:                        22:45:19   Log-Likelihood:                -6573.0\n",
       "No. Observations:                1802   AIC:                         1.318e+04\n",
       "Df Residuals:                    1784   BIC:                         1.328e+04\n",
       "Df Model:                          17                                         \n",
       "Covariance Type:            nonrobust                                         \n",
       "==============================================================================================\n",
       "                                 coef    std err          t      P>|t|      [0.025      0.975]\n",
       "----------------------------------------------------------------------------------------------\n",
       "Ad                             0.1666      3.803      0.044      0.965      -7.292       7.625\n",
       "Cyber Weekend               -193.3195     26.951     -7.173      0.000    -246.179    -140.460\n",
       "Nanigans                      -2.3150      2.014     -1.149      0.251      -6.266       1.636\n",
       "Post                         -12.0410      7.576     -1.589      0.112     -26.899       2.817\n",
       "Simple_Multi_Fill_Campaign    -0.0647      1.882     -0.034      0.973      -3.756       3.627\n",
       "TravelPony                     7.2926      4.253      1.715      0.087      -1.048      15.633\n",
       "Reach                          0.0033      0.000     20.921      0.000       0.003       0.004\n",
       "Frequency                     -0.7778      1.836     -0.424      0.672      -4.378       2.823\n",
       "Impressions                   -0.0009   8.41e-05    -10.146      0.000      -0.001      -0.001\n",
       "Clicks                        -0.3859      0.113     -3.413      0.001      -0.608      -0.164\n",
       "Unique Clicks                  0.5155      0.127      4.057      0.000       0.266       0.765\n",
       "Page Likes                    24.4507      9.359      2.613      0.009       6.096      42.806\n",
       "Page Engagement              -21.1451      9.355     -2.260      0.024     -39.494      -2.796\n",
       "Post Engagement               18.0241      7.797      2.312      0.021       2.732      33.316\n",
       "Post Likes                     2.6100      1.564      1.669      0.095      -0.458       5.678\n",
       "Post Comments                  3.5949      1.627      2.209      0.027       0.403       6.787\n",
       "Post Shares                    4.9334      1.588      3.107      0.002       1.819       8.048\n",
       "Photo Views                    3.3214      1.562      2.126      0.034       0.257       6.385\n",
       "Website Clicks                 3.5644      1.563      2.281      0.023       0.500       6.629\n",
       "==============================================================================\n",
       "Omnibus:                      796.064   Durbin-Watson:                   1.812\n",
       "Prob(Omnibus):                  0.000   Jarque-Bera (JB):            21680.838\n",
       "Skew:                           1.484   Prob(JB):                         0.00\n",
       "Kurtosis:                      19.732   Cond. No.                     7.07e+18\n",
       "==============================================================================\n",
       "\n",
       "Warnings:\n",
       "[1] Standard Errors assume that the covariance matrix of the errors is correctly specified.\n",
       "[2] The smallest eigenvalue is 3.86e-26. This might indicate that there are\n",
       "strong multicollinearity problems or that the design matrix is singular.\n",
       "\"\"\""
      ]
     },
     "execution_count": 12,
     "metadata": {},
     "output_type": "execute_result"
    }
   ],
   "source": [
    "#  build a multiple regression \n",
    "model = sm.OLS(dependV, independV).fit()\n",
    "predictions = model.predict(independV) # make the predictions by the model\n",
    "#  show the regression\n",
    "model.summary()"
   ]
  },
  {
   "cell_type": "markdown",
   "metadata": {},
   "source": [
    "## 3. What are the three predictors with the highest predictive value (rank them, please)."
   ]
  },
  {
   "cell_type": "code",
   "execution_count": 42,
   "metadata": {},
   "outputs": [
    {
     "data": {
      "text/html": [
       "<div>\n",
       "<style scoped>\n",
       "    .dataframe tbody tr th:only-of-type {\n",
       "        vertical-align: middle;\n",
       "    }\n",
       "\n",
       "    .dataframe tbody tr th {\n",
       "        vertical-align: top;\n",
       "    }\n",
       "\n",
       "    .dataframe thead th {\n",
       "        text-align: right;\n",
       "    }\n",
       "</style>\n",
       "<table border=\"1\" class=\"dataframe\">\n",
       "  <thead>\n",
       "    <tr style=\"text-align: right;\">\n",
       "      <th></th>\n",
       "      <th>P Value</th>\n",
       "      <th>Coeff.</th>\n",
       "      <th>Rank</th>\n",
       "    </tr>\n",
       "  </thead>\n",
       "  <tbody>\n",
       "    <tr>\n",
       "      <th>Page Likes</th>\n",
       "      <td>9.059883e-03</td>\n",
       "      <td>24.450740</td>\n",
       "      <td>1</td>\n",
       "    </tr>\n",
       "    <tr>\n",
       "      <th>Post Engagement</th>\n",
       "      <td>2.090729e-02</td>\n",
       "      <td>18.024142</td>\n",
       "      <td>2</td>\n",
       "    </tr>\n",
       "    <tr>\n",
       "      <th>Post Shares</th>\n",
       "      <td>1.920459e-03</td>\n",
       "      <td>4.933423</td>\n",
       "      <td>3</td>\n",
       "    </tr>\n",
       "    <tr>\n",
       "      <th>Post Comments</th>\n",
       "      <td>2.731019e-02</td>\n",
       "      <td>3.594876</td>\n",
       "      <td>4</td>\n",
       "    </tr>\n",
       "    <tr>\n",
       "      <th>Website Clicks</th>\n",
       "      <td>2.265358e-02</td>\n",
       "      <td>3.564398</td>\n",
       "      <td>5</td>\n",
       "    </tr>\n",
       "    <tr>\n",
       "      <th>Photo Views</th>\n",
       "      <td>3.363899e-02</td>\n",
       "      <td>3.321407</td>\n",
       "      <td>6</td>\n",
       "    </tr>\n",
       "    <tr>\n",
       "      <th>Unique Clicks</th>\n",
       "      <td>5.180673e-05</td>\n",
       "      <td>0.515465</td>\n",
       "      <td>7</td>\n",
       "    </tr>\n",
       "    <tr>\n",
       "      <th>Reach</th>\n",
       "      <td>4.302627e-87</td>\n",
       "      <td>0.003310</td>\n",
       "      <td>8</td>\n",
       "    </tr>\n",
       "    <tr>\n",
       "      <th>Impressions</th>\n",
       "      <td>1.482248e-23</td>\n",
       "      <td>-0.000853</td>\n",
       "      <td>9</td>\n",
       "    </tr>\n",
       "    <tr>\n",
       "      <th>Clicks</th>\n",
       "      <td>6.578548e-04</td>\n",
       "      <td>-0.385926</td>\n",
       "      <td>10</td>\n",
       "    </tr>\n",
       "    <tr>\n",
       "      <th>Page Engagement</th>\n",
       "      <td>2.392916e-02</td>\n",
       "      <td>-21.145054</td>\n",
       "      <td>11</td>\n",
       "    </tr>\n",
       "    <tr>\n",
       "      <th>Cyber Weekend</th>\n",
       "      <td>1.071102e-12</td>\n",
       "      <td>-193.319513</td>\n",
       "      <td>12</td>\n",
       "    </tr>\n",
       "  </tbody>\n",
       "</table>\n",
       "</div>"
      ],
      "text/plain": [
       "                      P Value      Coeff.  Rank\n",
       "Page Likes       9.059883e-03   24.450740     1\n",
       "Post Engagement  2.090729e-02   18.024142     2\n",
       "Post Shares      1.920459e-03    4.933423     3\n",
       "Post Comments    2.731019e-02    3.594876     4\n",
       "Website Clicks   2.265358e-02    3.564398     5\n",
       "Photo Views      3.363899e-02    3.321407     6\n",
       "Unique Clicks    5.180673e-05    0.515465     7\n",
       "Reach            4.302627e-87    0.003310     8\n",
       "Impressions      1.482248e-23   -0.000853     9\n",
       "Clicks           6.578548e-04   -0.385926    10\n",
       "Page Engagement  2.392916e-02  -21.145054    11\n",
       "Cyber Weekend    1.071102e-12 -193.319513    12"
      ]
     },
     "execution_count": 42,
     "metadata": {},
     "output_type": "execute_result"
    }
   ],
   "source": [
    "#  rank the three predictors with the highest predictive value\n",
    "p = 0.05\n",
    "result = pd.concat([model.pvalues, model.params], axis=1)\n",
    "result = result.rename(index=str, columns={0: \"P Value\", 1: \"Coeff.\"})\n",
    "#  remove p value larger than 0.05, which is not significant to discuss in our case\n",
    "#  sort value based on the coeff.\n",
    "result = result[result['P Value'] < p].sort_values('Coeff.', ascending = False)\n",
    "result['Rank'] = result['Coeff.'].rank(ascending=0).astype(int)\n",
    "result"
   ]
  },
  {
   "cell_type": "markdown",
   "metadata": {},
   "source": [
    "### Answer: \n",
    "__Page Likes__, __Post Engagement__, and __Post Shares__ are the three predictors with the highest predictive value."
   ]
  }
 ],
 "metadata": {
  "kernelspec": {
   "display_name": "Python [conda env:anaconda3]",
   "language": "python",
   "name": "conda-env-anaconda3-py"
  },
  "language_info": {
   "codemirror_mode": {
    "name": "ipython",
    "version": 3
   },
   "file_extension": ".py",
   "mimetype": "text/x-python",
   "name": "python",
   "nbconvert_exporter": "python",
   "pygments_lexer": "ipython3",
   "version": "3.7.0"
  }
 },
 "nbformat": 4,
 "nbformat_minor": 2
}
