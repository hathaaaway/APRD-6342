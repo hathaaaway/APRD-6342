{
 "cells": [
  {
   "cell_type": "markdown",
   "metadata": {},
   "source": [
    "## Homework 7: Using CensusReporter to Make Geographic Selections\n",
    "Hathaway Zhang <br>\n",
    "104369396 <br>\n",
    "Oct.11, 2018"
   ]
  },
  {
   "cell_type": "code",
   "execution_count": 3,
   "metadata": {},
   "outputs": [],
   "source": [
    "import pandas as pd\n",
    "import pandas\n",
    "import requests\n",
    "import json\n",
    "import urllib \n",
    "from urllib.request import Request, urlopen"
   ]
  },
  {
   "cell_type": "code",
   "execution_count": 4,
   "metadata": {},
   "outputs": [
    {
     "data": {
      "text/html": [
       "<div>\n",
       "<style scoped>\n",
       "    .dataframe tbody tr th:only-of-type {\n",
       "        vertical-align: middle;\n",
       "    }\n",
       "\n",
       "    .dataframe tbody tr th {\n",
       "        vertical-align: top;\n",
       "    }\n",
       "\n",
       "    .dataframe thead th {\n",
       "        text-align: right;\n",
       "    }\n",
       "</style>\n",
       "<table border=\"1\" class=\"dataframe\">\n",
       "  <thead>\n",
       "    <tr style=\"text-align: right;\">\n",
       "      <th></th>\n",
       "      <th>CBSA</th>\n",
       "      <th>NAME</th>\n",
       "      <th>POPESTIMATE2017</th>\n",
       "    </tr>\n",
       "  </thead>\n",
       "  <tbody>\n",
       "    <tr>\n",
       "      <th>0</th>\n",
       "      <td>10180</td>\n",
       "      <td>Abilene, TX</td>\n",
       "      <td>170219</td>\n",
       "    </tr>\n",
       "    <tr>\n",
       "      <th>1</th>\n",
       "      <td>10420</td>\n",
       "      <td>Akron, OH</td>\n",
       "      <td>703505</td>\n",
       "    </tr>\n",
       "    <tr>\n",
       "      <th>2</th>\n",
       "      <td>10500</td>\n",
       "      <td>Albany, GA</td>\n",
       "      <td>151434</td>\n",
       "    </tr>\n",
       "    <tr>\n",
       "      <th>3</th>\n",
       "      <td>10540</td>\n",
       "      <td>Albany, OR</td>\n",
       "      <td>125047</td>\n",
       "    </tr>\n",
       "    <tr>\n",
       "      <th>4</th>\n",
       "      <td>10580</td>\n",
       "      <td>Albany-Schenectady-Troy, NY</td>\n",
       "      <td>886188</td>\n",
       "    </tr>\n",
       "  </tbody>\n",
       "</table>\n",
       "</div>"
      ],
      "text/plain": [
       "    CBSA                         NAME  POPESTIMATE2017\n",
       "0  10180                  Abilene, TX           170219\n",
       "1  10420                    Akron, OH           703505\n",
       "2  10500                   Albany, GA           151434\n",
       "3  10540                   Albany, OR           125047\n",
       "4  10580  Albany-Schenectady-Troy, NY           886188"
      ]
     },
     "execution_count": 4,
     "metadata": {},
     "output_type": "execute_result"
    }
   ],
   "source": [
    "# loaded csv data into a dataframe\n",
    "dfRaw = pd.read_csv(\"msas.csv\")\n",
    "dfRaw.head()"
   ]
  },
  {
   "cell_type": "code",
   "execution_count": 5,
   "metadata": {},
   "outputs": [],
   "source": [
    "# divide the data set into half for calculation\n",
    "geoid = \"31000US\" + dfRaw[\"CBSA\"].astype(str)\n",
    "half = geoid[:len(geoid)//2]\n",
    "rest = geoid[len(geoid)//2:]\n",
    "# join list together in a way that the api accepts\n",
    "half = ','.join(half)\n",
    "rest = ','.join(rest)"
   ]
  },
  {
   "cell_type": "markdown",
   "metadata": {},
   "source": [
    "### QUESTION 1\n",
    "What city has the highest count of the audience you chose for parameter #1?"
   ]
  },
  {
   "cell_type": "code",
   "execution_count": 6,
   "metadata": {},
   "outputs": [],
   "source": [
    "# Parameter 1: what average HH income should we choose?\n",
    "# make a python list of all the table ids you want to download\n",
    "tableidsQ1 = ['B19001']\n",
    "# join list together in a way that the api accepts\n",
    "tableidstringQ1 = ','.join(tableidsQ1)"
   ]
  },
  {
   "cell_type": "code",
   "execution_count": 7,
   "metadata": {},
   "outputs": [],
   "source": [
    "# iterate over each of your metro areas and get the right data for each metro\n",
    "requesturl = 'http://api.censusreporter.org/1.0/data/show/latest?table_ids=%s&geo_ids=%s' % (tableidstringQ1, half)\n",
    "loadedjson = requests.get(requesturl)\n",
    "parsedjsonQ11 = json.loads(loadedjson.text)\n",
    "requesturl = 'http://api.censusreporter.org/1.0/data/show/latest?table_ids=%s&geo_ids=%s' % (tableidstringQ1, rest)\n",
    "loadedjson = requests.get(requesturl)\n",
    "parsedjsonQ12 = json.loads(loadedjson.text)"
   ]
  },
  {
   "cell_type": "markdown",
   "metadata": {},
   "source": [
    "#### What average HH income should we choose?\n",
    "According to http://academic.mintel.com.colorado.idm.oclc.org/display/907340/ <br>\n",
    "We could pick columns $50k to S74.9k: 'B19001011' and 'B19001012'"
   ]
  },
  {
   "cell_type": "code",
   "execution_count": 8,
   "metadata": {},
   "outputs": [],
   "source": [
    "dfHH = pd.DataFrame(columns=['country', 'population'], index=list(range(1,len(geoid))))"
   ]
  },
  {
   "cell_type": "code",
   "execution_count": 9,
   "metadata": {},
   "outputs": [],
   "source": [
    "# parsedjson for the first part\n",
    "for i in list(range(1,len(geoid)//2)):\n",
    "    dfHH['country'][i]=[geoid[i]]\n",
    "    dfHH['population'][i] = parsedjsonQ11['data'][geoid[i]]['B19001']['estimate']['B19001011'] + parsedjsonQ11['data'][geoid[i]]['B19001']['estimate']['B19001012']"
   ]
  },
  {
   "cell_type": "code",
   "execution_count": 10,
   "metadata": {},
   "outputs": [],
   "source": [
    "# parsedjson for the rest part\n",
    "for i in list(range(192,len(geoid))):\n",
    "    dfHH['country'][i]=[geoid[i]]\n",
    "    dfHH['population'][i] = parsedjsonQ12['data'][geoid[i]]['B19001']['estimate']['B19001011'] + parsedjsonQ12['data'][geoid[i]]['B19001']['estimate']['B19001012']"
   ]
  },
  {
   "cell_type": "code",
   "execution_count": 11,
   "metadata": {},
   "outputs": [
    {
     "name": "stdout",
     "output_type": "stream",
     "text": [
      "            country   population\n",
      "249  [31000US35620]  1.03819e+06\n"
     ]
    }
   ],
   "source": [
    "# print out the result\n",
    "print(dfHH.loc[dfHH['population'] == max(dfHH['population'])])"
   ]
  },
  {
   "cell_type": "code",
   "execution_count": 12,
   "metadata": {},
   "outputs": [
    {
     "name": "stdout",
     "output_type": "stream",
     "text": [
      "      CBSA                                   NAME  POPESTIMATE2017\n",
      "249  35620  New York-Newark-Jersey City, NY-NJ-PA         20320876\n"
     ]
    }
   ],
   "source": [
    "print(dfRaw.loc[dfRaw['CBSA'] == 35620])"
   ]
  },
  {
   "cell_type": "markdown",
   "metadata": {},
   "source": [
    "According to the calculation above, New York-Newark-Jersey City has the highest count of average house hold income that ranged between $50K to $70K, which is 1.03819e+06. "
   ]
  },
  {
   "cell_type": "markdown",
   "metadata": {},
   "source": [
    "### QUESTION 2\n",
    "What city has the highest count of the audience you chose for parameter #2?"
   ]
  },
  {
   "cell_type": "code",
   "execution_count": 13,
   "metadata": {},
   "outputs": [],
   "source": [
    "# Parameter 2: what age range should we target?\n",
    "tableidsQ2 = ['B01001']\n",
    "# join list together in a way that the api accepts\n",
    "tableidstringQ2 = ','.join(tableidsQ2)"
   ]
  },
  {
   "cell_type": "code",
   "execution_count": 14,
   "metadata": {},
   "outputs": [],
   "source": [
    "# iterate over each of your metro areas and get the right data for each metro\n",
    "requesturl = 'http://api.censusreporter.org/1.0/data/show/latest?table_ids=%s&geo_ids=%s' % (tableidstringQ2, half)\n",
    "loadedjson = requests.get(requesturl)\n",
    "parsedjsonQ21 = json.loads(loadedjson.text)\n",
    "requesturl = 'http://api.censusreporter.org/1.0/data/show/latest?table_ids=%s&geo_ids=%s' % (tableidstringQ2, rest)\n",
    "loadedjson = requests.get(requesturl)\n",
    "parsedjsonQ22 = json.loads(loadedjson.text)"
   ]
  },
  {
   "cell_type": "markdown",
   "metadata": {},
   "source": [
    "#### What age range should we target?\n",
    "According to http://academic.mintel.com.colorado.idm.oclc.org/display/907340/ <br>\n",
    "We could age range 18-34: 'B01001003','B01001004','B01001005','B01001006','B01001007','B01001008','B01001009','B01001010','B01001011', and 'B01001012' "
   ]
  },
  {
   "cell_type": "code",
   "execution_count": 15,
   "metadata": {},
   "outputs": [],
   "source": [
    "age_range = ['B01001007','B01001008','B01001009','B01001010','B01001011','B01001012']"
   ]
  },
  {
   "cell_type": "code",
   "execution_count": 16,
   "metadata": {},
   "outputs": [],
   "source": [
    "dfA = pd.DataFrame(columns=['location', 'population'], index=list(range(1,len(geoid))))"
   ]
  },
  {
   "cell_type": "code",
   "execution_count": 19,
   "metadata": {},
   "outputs": [],
   "source": [
    "# parsed json file\n",
    "for i in list(range(1,len(geoid)//2)):\n",
    "    dfA['location'][i]=[geoid[i]]\n",
    "    dfA['population'][i] = parsedjsonQ21['data'][geoid[i]]['B01001']['estimate'][age_range[0]] + parsedjsonQ21['data'][geoid[i]]['B01001']['estimate'][age_range[1]] + parsedjsonQ21['data'][geoid[i]]['B01001']['estimate'][age_range[2]] + parsedjsonQ21['data'][geoid[i]]['B01001']['estimate'][age_range[3]] + parsedjsonQ21['data'][geoid[i]]['B01001']['estimate'][age_range[4]] + parsedjsonQ21['data'][geoid[i]]['B01001']['estimate'][age_range[5]] \n",
    "    \n",
    "for i in list(range(192,len(geoid))):\n",
    "    dfA['location'][i]=[geoid[i]]\n",
    "    dfA['population'][i] = parsedjsonQ22['data'][geoid[i]]['B01001']['estimate'][age_range[0]] + parsedjsonQ22['data'][geoid[i]]['B01001']['estimate'][age_range[1]] + parsedjsonQ22['data'][geoid[i]]['B01001']['estimate'][age_range[2]] + parsedjsonQ22['data'][geoid[i]]['B01001']['estimate'][age_range[3]] + parsedjsonQ22['data'][geoid[i]]['B01001']['estimate'][age_range[4]] + parsedjsonQ22['data'][geoid[i]]['B01001']['estimate'][age_range[5]] "
   ]
  },
  {
   "cell_type": "code",
   "execution_count": 20,
   "metadata": {},
   "outputs": [
    {
     "name": "stdout",
     "output_type": "stream",
     "text": [
      "           location   population\n",
      "249  [31000US35620]  2.40159e+06\n"
     ]
    }
   ],
   "source": [
    "# print out result\n",
    "print(dfA.loc[dfA['population'] == max(dfA['population'])])"
   ]
  },
  {
   "cell_type": "code",
   "execution_count": 21,
   "metadata": {},
   "outputs": [
    {
     "name": "stdout",
     "output_type": "stream",
     "text": [
      "      CBSA                                   NAME  POPESTIMATE2017\n",
      "249  35620  New York-Newark-Jersey City, NY-NJ-PA         20320876\n"
     ]
    }
   ],
   "source": [
    "print(dfRaw.loc[dfRaw['CBSA'] == 35620])"
   ]
  },
  {
   "cell_type": "markdown",
   "metadata": {},
   "source": [
    "According to the calculation above, New York-Newark-Jersey City has the highest count of age range 18-34, which is 4.63682e+06. "
   ]
  },
  {
   "cell_type": "markdown",
   "metadata": {},
   "source": [
    "### QUESTION 3\n",
    "What city has the highest count of the audience you chose for parameter #3?"
   ]
  },
  {
   "cell_type": "code",
   "execution_count": 22,
   "metadata": {},
   "outputs": [],
   "source": [
    "# Parameter 3: areas with large Hispanic populations\n",
    "tableidsQ3 = ['B03003']\n",
    "# join list together in a way that the api accepts\n",
    "tableidstringQ3 = ','.join(tableidsQ3)"
   ]
  },
  {
   "cell_type": "code",
   "execution_count": 23,
   "metadata": {},
   "outputs": [],
   "source": [
    "# iterate over each of your metro areas and get the right data for each metro\n",
    "requesturl = 'http://api.censusreporter.org/1.0/data/show/latest?table_ids=%s&geo_ids=%s' % (tableidstringQ3, half)\n",
    "loadedjson = requests.get(requesturl)\n",
    "parsedjsonQ31 = json.loads(loadedjson.text)\n",
    "requesturl = 'http://api.censusreporter.org/1.0/data/show/latest?table_ids=%s&geo_ids=%s' % (tableidstringQ3, rest)\n",
    "loadedjson = requests.get(requesturl)\n",
    "parsedjsonQ32 = json.loads(loadedjson.text)"
   ]
  },
  {
   "cell_type": "markdown",
   "metadata": {},
   "source": [
    "#### What age range should we target?\n",
    "According to http://academic.mintel.com.colorado.idm.oclc.org/display/907340/ <br>\n",
    "The Hispanic code would be B03003003."
   ]
  },
  {
   "cell_type": "code",
   "execution_count": 24,
   "metadata": {},
   "outputs": [],
   "source": [
    "dfH = pd.DataFrame(columns=['location', 'population'], index=list(range(1,len(geoid))))"
   ]
  },
  {
   "cell_type": "code",
   "execution_count": 25,
   "metadata": {},
   "outputs": [],
   "source": [
    "# parsed json file\n",
    "for i in list(range(1,len(geoid)//2)):\n",
    "    dfH['location'][i]=[geoid[i]]\n",
    "    dfH['population'][i] = parsedjsonQ31['data'][geoid[i]]['B03003']['estimate']['B03003003'] \n",
    "for i in list(range(192,len(geoid))):\n",
    "    dfH['location'][i]=[geoid[i]]\n",
    "    dfH['population'][i] = parsedjsonQ32['data'][geoid[i]]['B03003']['estimate']['B03003003'] "
   ]
  },
  {
   "cell_type": "code",
   "execution_count": 26,
   "metadata": {},
   "outputs": [
    {
     "name": "stdout",
     "output_type": "stream",
     "text": [
      "           location   population\n",
      "210  [31000US31080]  6.03149e+06\n"
     ]
    }
   ],
   "source": [
    "print(dfH.loc[dfH['population'] == max(dfH['population'])])"
   ]
  },
  {
   "cell_type": "code",
   "execution_count": 27,
   "metadata": {},
   "outputs": [
    {
     "name": "stdout",
     "output_type": "stream",
     "text": [
      "      CBSA                                NAME  POPESTIMATE2017\n",
      "210  31080  Los Angeles-Long Beach-Anaheim, CA         13353907\n"
     ]
    }
   ],
   "source": [
    "print(dfRaw.loc[dfRaw['CBSA'] == 31080])"
   ]
  },
  {
   "cell_type": "markdown",
   "metadata": {},
   "source": [
    "According to the calculation above, Los Angeles-Long Beach-Anaheim, CA has the highest count of hispanic, which is \t6.03149e+06. "
   ]
  },
  {
   "cell_type": "markdown",
   "metadata": {},
   "source": [
    "### QUESTION 4\n",
    "What city has the highest mean percentage across all three categories?"
   ]
  },
  {
   "cell_type": "code",
   "execution_count": 25,
   "metadata": {},
   "outputs": [],
   "source": [
    "# create new columns and calculate the percentages\n",
    "HH_Income_Percentage = []\n",
    "Pop_by_age_Percentage = []\n",
    "Pop_by_Hispanic_Percentage = []\n",
    "for i, row in dfHH.iterrows():\n",
    "    Percentage_Income = dfHH['population'][i]/max(dfHH['population'])\n",
    "    Percentage_Age = dfA['population'][i]/max(dfA['population'])\n",
    "    Percentage_Hispanic = dfH['population'][i]/max(dfH['population'])\n",
    "    HH_Income_Percentage.append(Percentage_Income)\n",
    "    Pop_by_age_Percentage.append(Percentage_Age)\n",
    "    Pop_by_Hispanic_Percentage.append(Percentage_Hispanic)"
   ]
  },
  {
   "cell_type": "code",
   "execution_count": 26,
   "metadata": {},
   "outputs": [],
   "source": [
    "dfHH['percentage'] = HH_Income_Percentage\n",
    "dfA['percentage'] = Pop_by_age_Percentage\n",
    "dfH['percentage'] = Pop_by_Hispanic_Percentage"
   ]
  },
  {
   "cell_type": "code",
   "execution_count": 32,
   "metadata": {},
   "outputs": [],
   "source": [
    "# calculate mean percentage across all three categories\n",
    "Pmean = []\n",
    "for i, row in dfHH.iterrows():\n",
    "    Mean = (dfHH['percentage'][i] + dfA['percentage'][i]+ dfH['percentage'][i])/3\n",
    "    Pmean.append(Mean)\n",
    "dfHH['percentage mean'] = Pmean"
   ]
  },
  {
   "cell_type": "code",
   "execution_count": 35,
   "metadata": {},
   "outputs": [
    {
     "name": "stdout",
     "output_type": "stream",
     "text": [
      "            country   population  percentage  percentage mean\n",
      "249  [31000US35620]  1.03819e+06         1.0         0.942684\n"
     ]
    }
   ],
   "source": [
    "# print out the maximum value\n",
    "print(dfHH.loc[dfHH['percentage mean'] == max(dfHH['percentage mean'])])"
   ]
  },
  {
   "cell_type": "code",
   "execution_count": 36,
   "metadata": {},
   "outputs": [
    {
     "name": "stdout",
     "output_type": "stream",
     "text": [
      "      CBSA                                   NAME  POPESTIMATE2017\n",
      "249  35620  New York-Newark-Jersey City, NY-NJ-PA         20320876\n"
     ]
    }
   ],
   "source": [
    "print(dfRaw.loc[dfRaw['CBSA'] == 35620])"
   ]
  },
  {
   "cell_type": "markdown",
   "metadata": {},
   "source": [
    "New York-Newark-Jersey City, NY-NJ-PA has the highest mean percentage across all three categories, which is 0.942684"
   ]
  }
 ],
 "metadata": {
  "kernelspec": {
   "display_name": "Python [conda env:anaconda3]",
   "language": "python",
   "name": "conda-env-anaconda3-py"
  },
  "language_info": {
   "codemirror_mode": {
    "name": "ipython",
    "version": 3
   },
   "file_extension": ".py",
   "mimetype": "text/x-python",
   "name": "python",
   "nbconvert_exporter": "python",
   "pygments_lexer": "ipython3",
   "version": "3.7.0"
  }
 },
 "nbformat": 4,
 "nbformat_minor": 2
}
